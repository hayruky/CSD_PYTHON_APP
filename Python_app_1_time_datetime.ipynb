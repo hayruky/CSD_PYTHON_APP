{
 "cells": [
  {
   "cell_type": "markdown",
   "id": "2d2e3da6-f8ee-4513-a86a-fa63ddbf66c3",
   "metadata": {},
   "source": [
    "## Python Uygulama-1.DERS-23.02.2025 (1 saat 30 dakikadan başlıyor)\n",
    "### 1.DERS-time/datetime"
   ]
  },
  {
   "cell_type": "markdown",
   "id": "20947c4b-4121-452c-bddf-3b90f392ffd5",
   "metadata": {},
   "source": [
    "### **time MODÜLÜ**"
   ]
  },
  {
   "cell_type": "markdown",
   "id": "bf8d0c69-baf9-414c-9d16-6bdbc6fdd5a2",
   "metadata": {},
   "source": [
    "* Python'da tarih zaman işlemleri için standart kütüphane içerisindeki time ve datetime modülleri (paketleri) kullanılmaktadır.\n",
    "\n",
    "**time fonksiyonu**\n",
    "\n",
    "*  time modülündeki time fonksiyonu epoch'tan (01/01/1970'ten) geçen saniye sayısına geri döner. (Epoch olarak 01/01/1970 00:00 alınmaktadır.) \n",
    "* (Bu epoch C Programalama Dilinin bir çeşit doğum tarihi gibi düşünülmüştür.) time fonksiyonu float bir değere geri dönmektedir. Yani elde edilen saniye sayısı noktalı bir değer olabilmektedir. \n"
   ]
  },
  {
   "cell_type": "code",
   "execution_count": 3,
   "id": "37dd9cee-809a-459e-83cc-bdf2eb65d216",
   "metadata": {},
   "outputs": [
    {
     "name": "stdout",
     "output_type": "stream",
     "text": [
      "1747765314.7093034\n"
     ]
    }
   ],
   "source": [
    "#01/01/1970'ten beri geçen saniye sayısını verir.\n",
    "import time\n",
    "result=time.time()\n",
    "print(result)"
   ]
  },
  {
   "cell_type": "markdown",
   "id": "c0443f66-a423-435e-b91a-e27e159e1576",
   "metadata": {},
   "source": [
    "**ctime fonksiyonu**\n",
    "* Yukarıdaki ifadeyi yazısal olarak veriyor gibi düşünebiliriz.\n",
    "* Bilgisayarın saatine bakmaz.Verilen saniye sayısını parçalara ayırır."
   ]
  },
  {
   "cell_type": "code",
   "execution_count": 61,
   "id": "8aa01995-b828-46c8-bf56-fe6cb84ec8b6",
   "metadata": {},
   "outputs": [
    {
     "name": "stdout",
     "output_type": "stream",
     "text": [
      "Wed Jan  7 14:45:03 1970\n"
     ]
    }
   ],
   "source": [
    "s = time.ctime(result)\n",
    "print(s)"
   ]
  },
  {
   "cell_type": "markdown",
   "id": "fee7ae0b-6344-4d86-b955-67f7e2befbea",
   "metadata": {},
   "source": [
    "* time fonksiyonu ile programın iki noktası arasında geçen zaman saniye cinsinden ölçülebilir."
   ]
  },
  {
   "cell_type": "code",
   "execution_count": 18,
   "id": "c298de07-8fc2-4601-8123-50d3068c044f",
   "metadata": {},
   "outputs": [
    {
     "name": "stdout",
     "output_type": "stream",
     "text": [
      "5.608509302139282\n"
     ]
    }
   ],
   "source": [
    "t1 = time.time()\n",
    "for _ in range(100000000):\n",
    "    pass\n",
    "t2 = time.time()\n",
    "result = t2 - t1\n",
    "print(result)\n"
   ]
  },
  {
   "cell_type": "code",
   "execution_count": 20,
   "id": "f309e308-c7d3-4f60-82ca-43c762016ab0",
   "metadata": {},
   "outputs": [
    {
     "name": "stdout",
     "output_type": "stream",
     "text": [
      "Tue May 20 21:32:59 2025\n"
     ]
    }
   ],
   "source": [
    "#Şu andaki tarih zamanı tek bir ifade ile aşağıdaki gibi yazdırabiliriz:\n",
    "print(time.ctime())"
   ]
  },
  {
   "cell_type": "markdown",
   "id": "a14ba37d-509e-4973-b8b2-96d937e1b440",
   "metadata": {},
   "source": [
    "**localtime fonksiyonu** \n",
    "* time modülündeki localtime fonksiyonu 01/01/1970'ten geçen saniye sayısını parametre olarak alır ve struct_time türünden bir sınıf nesnesine geri döner.\n",
    "* Bu sınıf nesnesinin tm_xxx biçiminde isimlendirilmiş olan elemanlarından ilgili zaman bilgilerini alabiliriz.\n",
    "* struct_time sınıfının önemli elemanları şunlardır:\n",
    "  \n",
    "    * ***tm_gmtoff***\n",
    "    * ***tm_hour***\n",
    "    * ***tm_isdst***\n",
    "    * ***tm_mday***\n",
    "    * ***tm_min***\n",
    "    * ***tm_mon***\n",
    "    * ***tm_sec***\n",
    "    * ***tm_wday***\n",
    "    * ***tm_yday***\n",
    "    * ***tm_year***\n",
    "    * ***tm_zone***\n",
    "      \n",
    "        \n",
    "* Bu fonksiyon da parametresiz kullanımda o andaki zamana ilişkin bilgiyi vermeketedir. localtime fonksiyonun da bilgisayarın saatine bakmadığına yalnızca ayrıştırma işlemini yaptığına dikkat ediniz. \n"
   ]
  },
  {
   "cell_type": "code",
   "execution_count": 48,
   "id": "f5738a5f-58dc-4a41-a5b4-7ec9b7b08bb3",
   "metadata": {},
   "outputs": [
    {
     "name": "stdout",
     "output_type": "stream",
     "text": [
      "['__add__', '__class__', '__class_getitem__', '__contains__', '__delattr__', '__dir__', '__doc__', '__eq__', '__format__', '__ge__', '__getattribute__', '__getitem__', '__getnewargs__', '__getstate__', '__gt__', '__hash__', '__init__', '__init_subclass__', '__iter__', '__le__', '__len__', '__lt__', '__match_args__', '__module__', '__mul__', '__ne__', '__new__', '__reduce__', '__reduce_ex__', '__repr__', '__rmul__', '__setattr__', '__sizeof__', '__str__', '__subclasshook__', 'count', 'index', 'n_fields', 'n_sequence_fields', 'n_unnamed_fields', 'tm_gmtoff', 'tm_hour', 'tm_isdst', 'tm_mday', 'tm_min', 'tm_mon', 'tm_sec', 'tm_wday', 'tm_yday', 'tm_year', 'tm_zone']\n",
      "20/05/2025-21:50:49\n"
     ]
    }
   ],
   "source": [
    "t = time.time()\n",
    "st = time.localtime()\n",
    "print(dir(st))"
   ]
  },
  {
   "cell_type": "code",
   "execution_count": 50,
   "id": "41090050-fd0d-46be-b8e8-2ec6e3f05f0c",
   "metadata": {},
   "outputs": [
    {
     "name": "stdout",
     "output_type": "stream",
     "text": [
      "20/05/2025-21:50:49\n"
     ]
    }
   ],
   "source": [
    "print(f'{st.tm_mday:02d}/{st.tm_mon:02d}/{st.tm_year:04d}-{st.tm_hour:02d}:{st.tm_min:02d}:{st.tm_sec:02d}')"
   ]
  },
  {
   "cell_type": "markdown",
   "id": "6e2d50a0-0710-4a39-820c-917d98202b78",
   "metadata": {},
   "source": [
    "**perf_counter fonksiyonu**\n",
    "* fonksiyonu daha duyarlıklı zaman ölçmek için bulundurulmuştur.\n",
    "* bu fonksiyon ancak iki kere çağrılıp aradaki farkı hesaplamak için anlamlıdır."
   ]
  },
  {
   "cell_type": "code",
   "execution_count": 59,
   "id": "bc18519a-37eb-4ae3-82dd-f956d899cb9d",
   "metadata": {},
   "outputs": [
    {
     "name": "stdout",
     "output_type": "stream",
     "text": [
      "560703.7788358\n"
     ]
    }
   ],
   "source": [
    "result=time.perf_counter()\n",
    "print(result)"
   ]
  },
  {
   "cell_type": "markdown",
   "id": "a6d55447-8516-475c-839a-cb11b5b77df8",
   "metadata": {},
   "source": [
    "**sleep fonksiyonu**\n",
    "* time modülündeki sleep fonksiyonu CPU zamanı harcamadan ilgili akışı (thread'i) belirtilen saniye kadar bekletir."
   ]
  },
  {
   "cell_type": "code",
   "execution_count": 77,
   "id": "6d8e8e19-ea90-48b0-a0a4-49438f32e511",
   "metadata": {},
   "outputs": [
    {
     "name": "stdout",
     "output_type": "stream",
     "text": [
      "0 1 2 3 4 5 6 7 8 9 \n"
     ]
    }
   ],
   "source": [
    "for i in range(10):\n",
    "    print(i, end=' ')\n",
    "    time.sleep(0.3)\n",
    "print()\n",
    "#0.5 saniye aralıklarla 0 dan 9 a kadar yazdırdı."
   ]
  },
  {
   "cell_type": "markdown",
   "id": "0cdd6b01-92da-4498-95da-a491d75002d1",
   "metadata": {},
   "source": [
    "* **!!!** sleep gibi bir bekleme fonksiyonunu meşgul döngü (busy loop) oluşturacak biçimde gerçekleştirmeye çalışmayınız. Çünkü time.sleep fonksiyonu thread'ler konusunda da göreceğimiz gibi o anda çalışmakta olan thread'i CPU zamanı harcamayacak biçimde bloke etmektedir.\n"
   ]
  },
  {
   "cell_type": "code",
   "execution_count": 101,
   "id": "74e9b1ad-1c93-4200-87c5-9577c727100f",
   "metadata": {},
   "outputs": [
    {
     "name": "stdout",
     "output_type": "stream",
     "text": [
      "0 1 2 3 4 5 6 7 8 9 "
     ]
    }
   ],
   "source": [
    "#Bu kullanım yanlıştır.\n",
    "def bad_sleep(seconds):\n",
    "    t1 = time.perf_counter()\n",
    "    while True:\n",
    "        t2 = time.perf_counter()\n",
    "        if t2 - t1 >= seconds:\n",
    "            break\n",
    "for i in range(10):\n",
    "    print(f'{i} ', end='')\n",
    "    bad_sleep(0.5)"
   ]
  },
  {
   "cell_type": "markdown",
   "id": "5661242e-91d0-4854-b24e-b2a6b9369cd9",
   "metadata": {},
   "source": [
    "### **datetime MODÜLÜ**\n",
    "-Tarih , zaman işlemleri yapar-"
   ]
  },
  {
   "cell_type": "code",
   "execution_count": 94,
   "id": "adf4534f-8047-4c69-86c2-5f0cf401f24b",
   "metadata": {},
   "outputs": [],
   "source": [
    "import datetime"
   ]
  },
  {
   "cell_type": "markdown",
   "id": "6280c53a-cda5-4014-8099-141c7c333c0e",
   "metadata": {},
   "source": [
    "**date fonksiyonu**\n",
    "* Tarih bilgisini tutarak(zaman değil) bazı temel işlemleri yapmamıza olanak sağlar.\n",
    "  * **datetime.date(year, month, day)**"
   ]
  },
  {
   "cell_type": "code",
   "execution_count": 99,
   "id": "4d59e8d9-7333-4292-a668-0918ade709e2",
   "metadata": {},
   "outputs": [
    {
     "name": "stdout",
     "output_type": "stream",
     "text": [
      "2022-10-21\n",
      "21/10/2022\n"
     ]
    }
   ],
   "source": [
    "d = datetime.date(2022, 10, 21)\n",
    "print(d)\n",
    "print(f'{d.day:02d}/{d.month:02d}/{d.year:04d}')"
   ]
  },
  {
   "cell_type": "code",
   "execution_count": 106,
   "id": "16829c1e-d716-49c7-9590-b45734faf833",
   "metadata": {},
   "outputs": [
    {
     "name": "stdout",
     "output_type": "stream",
     "text": [
      "2022-10-21\n",
      "21\n",
      "10\n",
      "2022\n"
     ]
    }
   ],
   "source": [
    "print(d)\n",
    "print(d.day)\n",
    "print(d.month)\n",
    "print(d.year)"
   ]
  },
  {
   "cell_type": "markdown",
   "id": "27027e4b-ff7d-4cee-a1a5-99063b50977e",
   "metadata": {},
   "source": [
    "**today metodu**\n",
    "* O andaki tarih bilgisini date nesnesi olarak verir.\n",
    "* datetime.date.today()"
   ]
  },
  {
   "cell_type": "code",
   "execution_count": 115,
   "id": "480063a3-ade2-4a0b-9c2b-595cd5bbf27c",
   "metadata": {},
   "outputs": [
    {
     "name": "stdout",
     "output_type": "stream",
     "text": [
      "2025-05-20\n"
     ]
    }
   ],
   "source": [
    "print(datetime.date.today()) #şuanki tarihi verir."
   ]
  },
  {
   "cell_type": "markdown",
   "id": "261fa6e3-b3fd-4bf2-bd69-41cff6874e64",
   "metadata": {},
   "source": [
    "**weekday metodu**\n",
    "* tarihin haftanın kaçıncı günü olduğu bilgisini verir.\n",
    "* İNDEX 0 DAN BAŞLAR PZT:0 , SALI:1 ...... PAZAR:6 ŞEKLİNDE\n"
   ]
  },
  {
   "cell_type": "code",
   "execution_count": 141,
   "id": "dff56cc6-f041-4b45-9ee2-8fc6322f7652",
   "metadata": {},
   "outputs": [
    {
     "name": "stdout",
     "output_type": "stream",
     "text": [
      "today: 2025-05-20\n",
      "1\n"
     ]
    }
   ],
   "source": [
    "d=datetime.date.today()\n",
    "print(\"today:\",d)\n",
    "print(datetime.date.weekday(d)) #SALI İNDEX 0 DAN BAŞLAR"
   ]
  },
  {
   "cell_type": "code",
   "execution_count": 137,
   "id": "2322fb5c-005a-4e83-848c-1b3b0cadc709",
   "metadata": {},
   "outputs": [
    {
     "name": "stdout",
     "output_type": "stream",
     "text": [
      "Salı\n"
     ]
    }
   ],
   "source": [
    "d=datetime.date.today()\n",
    "daytext = ('Pazartesi', 'Salı', 'Çarşamba', 'Perşembe', 'Cuma', 'Cumartesi', 'Pazar')\n",
    "print(daytext[d.weekday()])"
   ]
  },
  {
   "cell_type": "code",
   "execution_count": null,
   "id": "d27961f1-b00e-4126-899c-89cb757b38b0",
   "metadata": {},
   "outputs": [],
   "source": []
  }
 ],
 "metadata": {
  "kernelspec": {
   "display_name": "Python 3 (ipykernel)",
   "language": "python",
   "name": "python3"
  },
  "language_info": {
   "codemirror_mode": {
    "name": "ipython",
    "version": 3
   },
   "file_extension": ".py",
   "mimetype": "text/x-python",
   "name": "python",
   "nbconvert_exporter": "python",
   "pygments_lexer": "ipython3",
   "version": "3.12.4"
  }
 },
 "nbformat": 4,
 "nbformat_minor": 5
}

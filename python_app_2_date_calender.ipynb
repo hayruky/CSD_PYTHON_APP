{
 "cells": [
  {
   "cell_type": "markdown",
   "id": "e597358d-f35f-4afc-9d07-624c6b25f927",
   "metadata": {},
   "source": [
    "## PYTHON UYGULAMA-2.DERS-01.03.2025\n",
    "### 2.DERS\n",
    "* datetime modülü\n",
    "* calender modülü\n",
    "* düzenli ifadeler"
   ]
  },
  {
   "cell_type": "markdown",
   "id": "3fbd6154-7178-41ff-a7f6-e257fbd46923",
   "metadata": {},
   "source": [
    "* date sınıfının **isoweekday** isimli metodu yine bize nesnenin tuttuğu tarihin haftanın kaçıncı günü olduğu bilgisini verir. Ancak haftanın başlangıç günü Pazar'dır. Yani burada 0 = Pazar'dır.\n"
   ]
  },
  {
   "cell_type": "code",
   "execution_count": 5,
   "id": "81dffd7e-2da6-4292-a571-dce33d107c27",
   "metadata": {},
   "outputs": [
    {
     "name": "stdout",
     "output_type": "stream",
     "text": [
      "Cuma\n"
     ]
    }
   ],
   "source": [
    "import datetime\n",
    "\n",
    "d = datetime.date.today()\n",
    "daytext = ('Pazar', 'Pazartesi', 'Salı', 'Çarşamba', 'Perşembe', 'Cuma', 'Cumartesi', 'Pazartesi')\n",
    "\n",
    "print(daytext[d.isoweekday()])\n"
   ]
  },
  {
   "cell_type": "markdown",
   "id": "cc3d12ed-b065-4411-8bb5-3d65dbcc439a",
   "metadata": {},
   "source": [
    "* date sınıfının **isocalendar** isimli metodu bize nesnenin tuttuğu tarihi sırasıyla yıl, yılın haftası, haftanın günü biçiminde bir \"isimli demet (named tuple) nesnesi olarak vermektedir.\n",
    "* Biz bu bilgilere [] operatörü ile ya dağrudan year, week ve weekday öznitelikleriyle erişebiliriz. Haftanın günü için başlangıç 0 = Pazar biçimindedir."
   ]
  },
  {
   "cell_type": "code",
   "execution_count": 29,
   "id": "43f27f1b-1348-4e79-bc4a-fc49b0835f3a",
   "metadata": {},
   "outputs": [
    {
     "name": "stdout",
     "output_type": "stream",
     "text": [
      "datetime.IsoCalendarDate(year=2025, week=22, weekday=5)\n",
      "2025 - 22 - 5\n",
      "2025 - 22 - 5\n"
     ]
    }
   ],
   "source": [
    "import datetime\n",
    "d = datetime.date.today()\n",
    "ic = d.isocalendar()\n",
    "print(ic)\n",
    "print(ic.year,\"-\", ic.week,\"-\", ic.weekday)\n",
    "print(ic[0],\"-\", ic[1],\"-\", ic[2]) #iso takvimine göre olduğu için normal günün tarihini vermedi"
   ]
  },
  {
   "cell_type": "markdown",
   "id": "c9eb845a-74b8-4527-abc7-4b18a98c5233",
   "metadata": {},
   "source": [
    "* date sınıfının **isoformat** isimli metodu nesnenin tuttuğu tarihi \"yyyy-mm-dd\" formatında bir yazı biçiminde verir."
   ]
  },
  {
   "cell_type": "code",
   "execution_count": 26,
   "id": "7bd44b08-2d1f-4470-a662-9214aef7702d",
   "metadata": {},
   "outputs": [
    {
     "name": "stdout",
     "output_type": "stream",
     "text": [
      "2025-05-30\n"
     ]
    }
   ],
   "source": [
    "d = datetime.date(2025, 5, 30)\n",
    "result = d.isoformat()\n",
    "print(result)"
   ]
  },
  {
   "cell_type": "markdown",
   "id": "5ae0bc1e-c9f0-4e9f-a6d7-c40925e59799",
   "metadata": {},
   "source": [
    "* date sınıfının iki tarihi karşılaştıran karşılaştırma operatör metotları bulunmaktadır.\n"
   ]
  },
  {
   "cell_type": "code",
   "execution_count": 34,
   "id": "f7ba3b9e-63a3-46f6-ab08-9daeb3237f12",
   "metadata": {},
   "outputs": [
    {
     "name": "stdout",
     "output_type": "stream",
     "text": [
      "d1 > d2\n"
     ]
    }
   ],
   "source": [
    "d1 = datetime.date(2020, 10, 5)\n",
    "d2 = datetime.date(2020, 9, 5)\n",
    "\n",
    "if d1 > d2:\n",
    "    print('d1 > d2')\n",
    "elif d1 < d2:\n",
    "    print('d1 < d2')\n",
    "elif d1 == d2:\n",
    "    print('d1 == d2')\n"
   ]
  },
  {
   "cell_type": "markdown",
   "id": "25f37a73-b8bd-4c8c-9d0a-745961e93e00",
   "metadata": {},
   "source": [
    "* datetime modülündeki date sınıfının **fromisoformat** isimli sınıf metodu ISO formatındaki yazısal tarihten date nesnesi oluşturarak  bu date nesnesine geri dönmektedir.\n"
   ]
  },
  {
   "cell_type": "code",
   "execution_count": 59,
   "id": "72b0fe31-237e-4dd2-ad5d-404b4a702df4",
   "metadata": {},
   "outputs": [
    {
     "name": "stdout",
     "output_type": "stream",
     "text": [
      "2025-02-05\n"
     ]
    }
   ],
   "source": [
    "d = datetime.date.fromisocalendar(2025, 6, 3)\n",
    "print(d)"
   ]
  },
  {
   "cell_type": "code",
   "execution_count": 63,
   "id": "86d6531f-e934-4c48-b681-f8442105977a",
   "metadata": {},
   "outputs": [
    {
     "name": "stdin",
     "output_type": "stream",
     "text": [
      "yyyy-mm-dd formatında bir tarih giriniz: 2004-10-05\n"
     ]
    },
    {
     "name": "stdout",
     "output_type": "stream",
     "text": [
      "2004-10-05\n"
     ]
    }
   ],
   "source": [
    "s = input('yyyy-mm-dd formatında bir tarih giriniz:')\n",
    "d = datetime.date.fromisoformat(s)\n",
    "print(d)\n"
   ]
  },
  {
   "cell_type": "markdown",
   "id": "ea7aec8a-9774-4174-b3a7-003512ef6a64",
   "metadata": {},
   "source": [
    "* **datetime modülündeki time** sınıfı zaman bilgisini tutmak ve onun üzerinde işlemler yapmak için kullanılmaktadır.\n",
    "*  Sınıfın ***__init__***  metodu bizden sırasıyla saat, dakika, saniye ve mikro saniye değerlerini almaktadır.\n",
    "*   Bu parametreler default 0 değerini almıştır.\n",
    "* Sınıfın ***__str__*** ve ***__repr__*** metotları yine zaman bilgisini bize bir yazı biçiminde vermektedir. \n"
   ]
  },
  {
   "cell_type": "code",
   "execution_count": 79,
   "id": "58230b28-c48c-4f44-a8be-24a533448443",
   "metadata": {},
   "outputs": [
    {
     "name": "stdout",
     "output_type": "stream",
     "text": [
      "13:42:54\n",
      "13:42:54 <class 'datetime.time'>\n"
     ]
    }
   ],
   "source": [
    "t = datetime.time(13, 42, 54)\n",
    "print(t)\n",
    "print(t,type(t))"
   ]
  },
  {
   "cell_type": "markdown",
   "id": "07bf37ff-4311-4d12-8cad-59583f983ff2",
   "metadata": {},
   "source": [
    "*  time sınıfının **hour, minute, second ve microsecond** örnek öznitelikleri nesnenin tuttuğu zamanın saat, dakika, saniye  ve mikro saniye bileşenlerini bize verir."
   ]
  },
  {
   "cell_type": "code",
   "execution_count": 86,
   "id": "33491f50-0a03-424d-87c2-fb5e131cd235",
   "metadata": {},
   "outputs": [
    {
     "name": "stdout",
     "output_type": "stream",
     "text": [
      "13:42:06\n"
     ]
    }
   ],
   "source": [
    "t = datetime.time(13, 42, 6)\n",
    "print(f'{t.hour:02d}:{t.minute:02d}:{t.second:02d}')\n",
    "#verilmeyen değer sıfır çıkar"
   ]
  },
  {
   "cell_type": "markdown",
   "id": "674cbbd5-81b3-4f59-b5df-2c1d8ac312ce",
   "metadata": {},
   "source": [
    "*  time sınıfın iki time nesnesini karşılaştıran karşılaştırma operatör metotları vardır."
   ]
  },
  {
   "cell_type": "code",
   "execution_count": 88,
   "id": "b00cb068-fa31-4c79-ab09-4440a574052c",
   "metadata": {},
   "outputs": [
    {
     "name": "stdout",
     "output_type": "stream",
     "text": [
      "t1 > t2\n"
     ]
    }
   ],
   "source": [
    "t1 = datetime.time(13, 42, 6)\n",
    "t2 = datetime.time(9, 43, 6)\n",
    "\n",
    "if t1 > t2:\n",
    "    print('t1 > t2')\n",
    "elif t1 < t2:\n",
    "    print('t1 > t2')\n",
    "elif t1 == t2:\n",
    "    print('t1 == t2')"
   ]
  },
  {
   "cell_type": "markdown",
   "id": "db3d3390-71fb-47b5-ba9c-55c9768b6411",
   "metadata": {},
   "source": [
    "*   İki time nesnesi toplanıp çıkartılamamaktadır.\n",
    "*   Ancak ileride göreceğimiz iki timedelta nesnesi toplanıp çıkartılabilmektedir."
   ]
  },
  {
   "cell_type": "code",
   "execution_count": 90,
   "id": "df3a829d-40bc-45d3-9f4a-8f7433119ea2",
   "metadata": {},
   "outputs": [
    {
     "name": "stdout",
     "output_type": "stream",
     "text": [
      "21910\n",
      "108310.0\n"
     ]
    }
   ],
   "source": [
    "td = datetime.timedelta(hours=30, minutes=5, seconds=10)\n",
    "print(td.seconds)               # 6 * 60 * 60 + 5 * 60 + 10 = 2190\n",
    "print(td.total_seconds())       # 108310.0\n"
   ]
  },
  {
   "cell_type": "code",
   "execution_count": 94,
   "id": "cd980c51-1dde-4c51-9c53-474deed17f03",
   "metadata": {},
   "outputs": [
    {
     "name": "stdout",
     "output_type": "stream",
     "text": [
      "3 days, 0:05:10.120000\n"
     ]
    }
   ],
   "source": [
    "td = datetime.timedelta( days=3,minutes=5, seconds=10, microseconds=120000)\n",
    "print(td)"
   ]
  },
  {
   "cell_type": "markdown",
   "id": "b595d093-40d7-4678-812b-05cecaba0e76",
   "metadata": {},
   "source": [
    "* timedelta sınıfının **days** örnek özniteliği tutulan süredeki tam gün sayısını,\n",
    "* **seconds** örnek özniteliği gündeki toplam saniye sayısını vermektedir.\n",
    "* Sınıfın **microseconds** örnek özniteliği ise zaman aralığının yalnızca mikroseniye bileşenini vermektedir.\n",
    "* Sınıfın **total_seconds** metodu tüm zaman aralığının saniye değerini vermektedir.total_seconds float bir değer geri döndürmektedir ve mikro saniye de değerin içerisinde bulunmaktadır. \n",
    "* Ancak sınıfın seconds örnek özniteliği int türdendir. Onun içerisinde mikro saniye değeri yoktur.\n",
    "*  Sınıfın minutes, hours gibi örnek özniteliklerinin olmadığına dikkat ediniz. \n",
    "\n"
   ]
  },
  {
   "cell_type": "code",
   "execution_count": 106,
   "id": "cbbfaef9-38ba-4861-8c1a-605a43ede7f0",
   "metadata": {},
   "outputs": [
    {
     "name": "stdout",
     "output_type": "stream",
     "text": [
      "2 days, 5:02:10.000035\n",
      "2\n",
      "18130\n",
      "35\n",
      "190930.000035\n"
     ]
    }
   ],
   "source": [
    "dt = datetime.timedelta(days = 2, hours=5,\n",
    "                        minutes=2, seconds=10,\n",
    "                        microseconds = 35)\n",
    "\n",
    "\n",
    "print(dt)\n",
    "print(dt.days)              # 2\n",
    "print(dt.seconds)           # 18130\n",
    "print(dt.microseconds)      # 35\n",
    "print(dt.total_seconds())    # 190930.000035\n"
   ]
  },
  {
   "cell_type": "markdown",
   "id": "2c24ba59-80f9-479a-bf60-ba16a209a92c",
   "metadata": {},
   "source": [
    "* İki time nesnesi toplanıp çıkartılamaz ancak iki timedelta nesnesi toplanıp çıkartılabilir.\n",
    "* Bu durumda elde edilen değer yine timedelta nesnesi olur.\n"
   ]
  },
  {
   "cell_type": "code",
   "execution_count": 121,
   "id": "aed6b176-262a-44ea-ab5c-1c6c0e4bff87",
   "metadata": {},
   "outputs": [
    {
     "name": "stdout",
     "output_type": "stream",
     "text": [
      "td1: 1 day, 6:05:10 td2: 17:02:05\n",
      "çıkartma: 13:03:05\n",
      "toplam: 1 day, 23:07:15\n"
     ]
    }
   ],
   "source": [
    "td1 = datetime.timedelta(hours=30, minutes=5, seconds=10)\n",
    "td2 = datetime.timedelta(hours=17, minutes=2, seconds=5)\n",
    "result = td1 - td2\n",
    "print(\"td1:\" ,td1,\"td2:\", td2)\n",
    "print(\"çıkartma:\",result)\n",
    "sum = td1 + td2\n",
    "print(\"toplam:\",sum)\n"
   ]
  },
  {
   "cell_type": "markdown",
   "id": "0c694e86-30f6-44cc-b64c-a30605fac0bb",
   "metadata": {},
   "source": [
    "* time nesnesi timedelta nesnesi ile toplanıp çıkartılamaz ancak date nesnesi timedelta nesnesiyle toplanıp çıkartılabilir.\n",
    "*  Sonuç date sınıfı türünden olur.\n",
    "*  Tabii bu durumda timedelta nesnesindeki tam günler işleme sokulmaktadır.\n"
   ]
  },
  {
   "cell_type": "code",
   "execution_count": 124,
   "id": "d5678823-f5af-4aa1-b932-6dd6e5bf2fa2",
   "metadata": {},
   "outputs": [
    {
     "name": "stdout",
     "output_type": "stream",
     "text": [
      "2020-12-10\n",
      "2020-12-02\n"
     ]
    }
   ],
   "source": [
    "d = datetime.date(2020, 12, 6)\n",
    "td = datetime.timedelta(days=3, hours=25)\n",
    "\n",
    "\n",
    "result = d + td\n",
    "print(result)           # 2020-12-10\n",
    "\n",
    "\n",
    "result = d - td\n",
    "print(result)           # 2020-12-02\n"
   ]
  },
  {
   "cell_type": "markdown",
   "id": "e1e84c56-3ca2-46b5-aefa-0c95ec1fa34f",
   "metadata": {},
   "source": [
    "* datetime modülünün datetime isimli sınıfı hem tarih hem de zaman bilgisini bir arada aynı nesnede tutmak için bulundurulmuştur.\n",
    "*  Sınıfın __init__ metodunun parametrik yapısı şöyledir:\n",
    "   *  datetime.datetime(year, month, day, hour=0, minute=0, second=0, microsecond=0, tzinfo=None, *, fold=0)\n",
    "*  Yine sınıfın __str__ ve __repr__ metotları datetime nesnesindeki tarih ve zaman değerlerini bize bir yazı biçiminde vermektedir. \n"
   ]
  },
  {
   "cell_type": "code",
   "execution_count": 128,
   "id": "d85c54f3-f871-43a0-b3cd-060d96b68ef4",
   "metadata": {},
   "outputs": [
    {
     "name": "stdout",
     "output_type": "stream",
     "text": [
      "2019-12-05 12:07:34\n"
     ]
    }
   ],
   "source": [
    "dt = datetime.datetime(2019, 12, 5, 12, 7, 34)\n",
    "print(dt)           # 2019-12-05 12:07:34\n"
   ]
  },
  {
   "cell_type": "markdown",
   "id": "73d4590f-ac8b-42c1-b3f0-5c55e3ca904a",
   "metadata": {},
   "source": [
    "* **iki datetime karşılaştırılabilir.**"
   ]
  },
  {
   "cell_type": "code",
   "execution_count": 132,
   "id": "ead75f2a-1a6e-4d19-a24f-fcc1ed69a912",
   "metadata": {},
   "outputs": [
    {
     "name": "stdout",
     "output_type": "stream",
     "text": [
      "dt1 == dt2\n"
     ]
    }
   ],
   "source": [
    "dt1 = datetime.datetime(2019, 12, 5, 12, 7, 34)\n",
    "dt2 = datetime.datetime(2019, 12, 5, 12, 7, 34)\n",
    "\n",
    "\n",
    "if dt1 > dt2:\n",
    "    print('dt1 > dt2')\n",
    "elif dt1 < dt2:\n",
    "    print('dt1 < dt2')\n",
    "elif dt1 == dt2:\n",
    "    print('dt1 == dt2')\n"
   ]
  },
  {
   "cell_type": "markdown",
   "id": "1b61c5cf-91f3-440c-94fc-a194b13bab3d",
   "metadata": {},
   "source": [
    "* **datetime nesnesi ile timedelta nesnesi toplanıp çıkartılabilir. Elde edilen sonuç datetime nesnesi olur.**"
   ]
  },
  {
   "cell_type": "code",
   "execution_count": 138,
   "id": "a8724978-224f-49f6-91d4-357d93a5791c",
   "metadata": {},
   "outputs": [
    {
     "name": "stdout",
     "output_type": "stream",
     "text": [
      "2025-05-30 18:09:47.003463\n",
      "2025-07-29 21:36:47.003463\n"
     ]
    },
    {
     "data": {
      "text/plain": [
       "datetime.datetime"
      ]
     },
     "execution_count": 138,
     "metadata": {},
     "output_type": "execute_result"
    }
   ],
   "source": [
    "dt = datetime.datetime.now()\n",
    "result = dt + datetime.timedelta(days=60, hours=3, minutes=27)\n",
    "print(dt)\n",
    "print(result)\n",
    "type(result)"
   ]
  },
  {
   "cell_type": "markdown",
   "id": "b363fee1-740f-4768-974d-3479e3eafe7d",
   "metadata": {},
   "source": [
    "* datetime sınıfının **combine** isimli statik metodu date ve time nesnelerini alıp bir datetime nesnesi vermektedir. Örneğin:\n",
    "\n",
    "\n",
    "  \n"
   ]
  },
  {
   "cell_type": "code",
   "execution_count": 143,
   "id": "e085c4b9-8c86-4752-9e28-ba5a254d1f76",
   "metadata": {},
   "outputs": [
    {
     "name": "stdout",
     "output_type": "stream",
     "text": [
      "2020-12-23 13:56:34\n"
     ]
    }
   ],
   "source": [
    "d = datetime.date(2020, 12, 23)\n",
    "t = datetime.time(13, 56, 34)\n",
    "dt = datetime.datetime.combine(d, t)\n",
    "print(dt)"
   ]
  },
  {
   "cell_type": "markdown",
   "id": "e1069c4b-6245-4d34-a166-f3593c38f940",
   "metadata": {},
   "source": [
    "### **calender MODÜLÜ**"
   ]
  },
  {
   "cell_type": "markdown",
   "id": "297c027e-0754-4e46-948d-105373884f27",
   "metadata": {},
   "source": [
    "* datetime modülü dışında tarih ve zaman işlemleriyle ilgili diğer bir modülde **calander** isimli modüldür.\n",
    "* calendar modülündeki **isleap** isimli fonksiyon belli bir yılın artık olup olmadığını anlamakta kullanılır.  \n"
   ]
  },
  {
   "cell_type": "code",
   "execution_count": 156,
   "id": "724ee55b-ede7-4ae4-a8a0-0a513c038b4f",
   "metadata": {},
   "outputs": [
    {
     "name": "stdout",
     "output_type": "stream",
     "text": [
      "Artık yıl\n"
     ]
    }
   ],
   "source": [
    "#fonksyion ile\n",
    "def isleap(year):\n",
    "    return year % 4 == 0 and year % 100 != 0 or year % 400 == 0\n",
    "print('Artık yıl' if isleap(2020) else 'Artık yıl değil')\n",
    "\n"
   ]
  },
  {
   "cell_type": "code",
   "execution_count": 160,
   "id": "eeb1828a-8386-4060-b5ef-3214081d24b4",
   "metadata": {
    "jupyter": {
     "source_hidden": true
    }
   },
   "outputs": [
    {
     "name": "stdout",
     "output_type": "stream",
     "text": [
      "Artık yıl\n",
      "Artık yıl değil\n"
     ]
    }
   ],
   "source": [
    "#calendar ile \n",
    "import calendar\n",
    "print('Artık yıl' if calendar.isleap(2020) else 'Artık yıl değil')\n",
    "print('Artık yıl' if calendar.isleap(2025) else 'Artık yıl değil')"
   ]
  },
  {
   "cell_type": "markdown",
   "id": "6f520c09-8539-4b3c-868a-c634ce1248e8",
   "metadata": {},
   "source": [
    "* **TextCalendar sınıfı**"
   ]
  },
  {
   "cell_type": "markdown",
   "id": "8df5abbb-29cb-462c-a98d-e159464ae12a",
   "metadata": {},
   "source": [
    "* calendar modülündeki **TextCalendar** isimli sınıfın **prmonth** isimli metodu belli bir yılın ayının takvimini ekrana basar.\n",
    "*  Metodun yıl ve ay dışında boşluk miktarlarına ilişkin iki parametresi daha vardır."
   ]
  },
  {
   "cell_type": "code",
   "execution_count": 207,
   "id": "c1011651-8efb-469e-b81b-e6fbc900e8b1",
   "metadata": {},
   "outputs": [
    {
     "name": "stdout",
     "output_type": "stream",
     "text": [
      "      May 2025\n",
      "Mo Tu We Th Fr Sa Su\n",
      "          1  2  3  4\n",
      " 5  6  7  8  9 10 11\n",
      "12 13 14 15 16 17 18\n",
      "19 20 21 22 23 24 25\n",
      "26 27 28 29 30 31\n",
      "     April 2025\n",
      "Mo Tu We Th Fr Sa Su\n",
      "    1  2  3  4  5  6\n",
      " 7  8  9 10 11 12 13\n",
      "14 15 16 17 18 19 20\n",
      "21 22 23 24 25 26 27\n",
      "28 29 30\n"
     ]
    },
    {
     "data": {
      "text/plain": [
       "calendar.TextCalendar"
      ]
     },
     "execution_count": 207,
     "metadata": {},
     "output_type": "execute_result"
    }
   ],
   "source": [
    "tc = calendar.TextCalendar()\n",
    "tc.prmonth(2025, 5)\n",
    "tc.prmonth(2025, 4)\n",
    "type(tc)"
   ]
  },
  {
   "cell_type": "markdown",
   "id": "96c356e7-1c3b-4540-80b9-fec599871e41",
   "metadata": {},
   "source": [
    "* TextCalendar sınıfının **formatmonth** isimli metodu prmonth gibi yılın belli bir ayının takvimini çıkartır.\n",
    "* Ancak bunu ekrana basmaz da yazı olarak (str nesnesi oalrak) verir."
   ]
  },
  {
   "cell_type": "code",
   "execution_count": 209,
   "id": "94e8dd58-393e-4b18-b468-e7fbcc254ceb",
   "metadata": {},
   "outputs": [
    {
     "name": "stdout",
     "output_type": "stream",
     "text": [
      "      May 2025\n",
      "Mo Tu We Th Fr Sa Su\n",
      "          1  2  3  4\n",
      " 5  6  7  8  9 10 11\n",
      "12 13 14 15 16 17 18\n",
      "19 20 21 22 23 24 25\n",
      "26 27 28 29 30 31\n",
      "\n"
     ]
    },
    {
     "data": {
      "text/plain": [
       "str"
      ]
     },
     "execution_count": 209,
     "metadata": {},
     "output_type": "execute_result"
    }
   ],
   "source": [
    "tc = calendar.TextCalendar()\n",
    "s=tc.formatmonth(2025, 5)\n",
    "print(s)\n",
    "type(s)"
   ]
  },
  {
   "cell_type": "markdown",
   "id": "eb2bd5da-2a7d-48f9-9b4f-fe844cab5124",
   "metadata": {},
   "source": [
    "* TextCalendar sınfının **pryear** metodu yılın tüm aylarının takvimini ekrana basar, formatyear metodu ise bunu yazı olarak (str nesnesi olarak) verir.\n"
   ]
  },
  {
   "cell_type": "code",
   "execution_count": 214,
   "id": "e5a51fd6-130b-44f2-a2df-cc65626813d7",
   "metadata": {},
   "outputs": [
    {
     "name": "stdout",
     "output_type": "stream",
     "text": [
      "                                  2025\n",
      "\n",
      "      January                   February                   March\n",
      "Mo Tu We Th Fr Sa Su      Mo Tu We Th Fr Sa Su      Mo Tu We Th Fr Sa Su\n",
      "       1  2  3  4  5                      1  2                      1  2\n",
      " 6  7  8  9 10 11 12       3  4  5  6  7  8  9       3  4  5  6  7  8  9\n",
      "13 14 15 16 17 18 19      10 11 12 13 14 15 16      10 11 12 13 14 15 16\n",
      "20 21 22 23 24 25 26      17 18 19 20 21 22 23      17 18 19 20 21 22 23\n",
      "27 28 29 30 31            24 25 26 27 28            24 25 26 27 28 29 30\n",
      "                                                    31\n",
      "\n",
      "       April                      May                       June\n",
      "Mo Tu We Th Fr Sa Su      Mo Tu We Th Fr Sa Su      Mo Tu We Th Fr Sa Su\n",
      "    1  2  3  4  5  6                1  2  3  4                         1\n",
      " 7  8  9 10 11 12 13       5  6  7  8  9 10 11       2  3  4  5  6  7  8\n",
      "14 15 16 17 18 19 20      12 13 14 15 16 17 18       9 10 11 12 13 14 15\n",
      "21 22 23 24 25 26 27      19 20 21 22 23 24 25      16 17 18 19 20 21 22\n",
      "28 29 30                  26 27 28 29 30 31         23 24 25 26 27 28 29\n",
      "                                                    30\n",
      "\n",
      "        July                     August                  September\n",
      "Mo Tu We Th Fr Sa Su      Mo Tu We Th Fr Sa Su      Mo Tu We Th Fr Sa Su\n",
      "    1  2  3  4  5  6                   1  2  3       1  2  3  4  5  6  7\n",
      " 7  8  9 10 11 12 13       4  5  6  7  8  9 10       8  9 10 11 12 13 14\n",
      "14 15 16 17 18 19 20      11 12 13 14 15 16 17      15 16 17 18 19 20 21\n",
      "21 22 23 24 25 26 27      18 19 20 21 22 23 24      22 23 24 25 26 27 28\n",
      "28 29 30 31               25 26 27 28 29 30 31      29 30\n",
      "\n",
      "      October                   November                  December\n",
      "Mo Tu We Th Fr Sa Su      Mo Tu We Th Fr Sa Su      Mo Tu We Th Fr Sa Su\n",
      "       1  2  3  4  5                      1  2       1  2  3  4  5  6  7\n",
      " 6  7  8  9 10 11 12       3  4  5  6  7  8  9       8  9 10 11 12 13 14\n",
      "13 14 15 16 17 18 19      10 11 12 13 14 15 16      15 16 17 18 19 20 21\n",
      "20 21 22 23 24 25 26      17 18 19 20 21 22 23      22 23 24 25 26 27 28\n",
      "27 28 29 30 31            24 25 26 27 28 29 30      29 30 31\n"
     ]
    }
   ],
   "source": [
    "tc = calendar.TextCalendar()\n",
    "tc.pryear(2025)\n"
   ]
  },
  {
   "cell_type": "code",
   "execution_count": 222,
   "id": "3ab2420a-cb4c-4f39-a762-53a7e88905c1",
   "metadata": {
    "scrolled": true
   },
   "outputs": [
    {
     "name": "stdout",
     "output_type": "stream",
     "text": [
      "                                  2025\n",
      "\n",
      "      January                   February                   March\n",
      "Mo Tu We Th Fr Sa Su      Mo Tu We Th Fr Sa Su      Mo Tu We Th Fr Sa Su\n",
      "       1  2  3  4  5                      1  2                      1  2\n",
      " 6  7  8  9 10 11 12       3  4  5  6  7  8  9       3  4  5  6  7  8  9\n",
      "13 14 15 16 17 18 19      10 11 12 13 14 15 16      10 11 12 13 14 15 16\n",
      "20 21 22 23 24 25 26      17 18 19 20 21 22 23      17 18 19 20 21 22 23\n",
      "27 28 29 30 31            24 25 26 27 28            24 25 26 27 28 29 30\n",
      "                                                    31\n",
      "\n",
      "       April                      May                       June\n",
      "Mo Tu We Th Fr Sa Su      Mo Tu We Th Fr Sa Su      Mo Tu We Th Fr Sa Su\n",
      "    1  2  3  4  5  6                1  2  3  4                         1\n",
      " 7  8  9 10 11 12 13       5  6  7  8  9 10 11       2  3  4  5  6  7  8\n",
      "14 15 16 17 18 19 20      12 13 14 15 16 17 18       9 10 11 12 13 14 15\n",
      "21 22 23 24 25 26 27      19 20 21 22 23 24 25      16 17 18 19 20 21 22\n",
      "28 29 30                  26 27 28 29 30 31         23 24 25 26 27 28 29\n",
      "                                                    30\n",
      "\n",
      "        July                     August                  September\n",
      "Mo Tu We Th Fr Sa Su      Mo Tu We Th Fr Sa Su      Mo Tu We Th Fr Sa Su\n",
      "    1  2  3  4  5  6                   1  2  3       1  2  3  4  5  6  7\n",
      " 7  8  9 10 11 12 13       4  5  6  7  8  9 10       8  9 10 11 12 13 14\n",
      "14 15 16 17 18 19 20      11 12 13 14 15 16 17      15 16 17 18 19 20 21\n",
      "21 22 23 24 25 26 27      18 19 20 21 22 23 24      22 23 24 25 26 27 28\n",
      "28 29 30 31               25 26 27 28 29 30 31      29 30\n",
      "\n",
      "      October                   November                  December\n",
      "Mo Tu We Th Fr Sa Su      Mo Tu We Th Fr Sa Su      Mo Tu We Th Fr Sa Su\n",
      "       1  2  3  4  5                      1  2       1  2  3  4  5  6  7\n",
      " 6  7  8  9 10 11 12       3  4  5  6  7  8  9       8  9 10 11 12 13 14\n",
      "13 14 15 16 17 18 19      10 11 12 13 14 15 16      15 16 17 18 19 20 21\n",
      "20 21 22 23 24 25 26      17 18 19 20 21 22 23      22 23 24 25 26 27 28\n",
      "27 28 29 30 31            24 25 26 27 28 29 30      29 30 31\n",
      "\n"
     ]
    },
    {
     "data": {
      "text/plain": [
       "str"
      ]
     },
     "execution_count": 222,
     "metadata": {},
     "output_type": "execute_result"
    }
   ],
   "source": [
    "s=tc.formatyear(2025)\n",
    "print(s)\n",
    "type(s)"
   ]
  },
  {
   "cell_type": "markdown",
   "id": "624982fb-0c85-4485-bea5-d357b6072040",
   "metadata": {},
   "source": [
    "### DÜZENLİ İFADELER(REGULAR EXPRESSIONS)"
   ]
  },
  {
   "cell_type": "markdown",
   "id": "2ca3a54c-008b-472f-a5cc-94ae22d9160c",
   "metadata": {},
   "source": [
    "* Düzenli ifadeler (regular expressions) bir yazı içerisinde belli bir kalıbın bulunması için kullanılan küçük bir dildir.\n",
    "* Düzenli  ifadeler sayesinde örneğin biz bir yazı içerisindeki gg/aa/yyyy gibi bir kalıba uyan tüm tarihleri elde edebiliriz.\n",
    "* Ya da örneğin  biz 192.168.2.3 gibi bir formatta bulunan tüm IP adreslerini elde edebiliriz.\n",
    "* Python'da düzenli ifadeler için __re__ isiminde bir modül bulundurulmuştur.  \n"
   ]
  },
  {
   "cell_type": "code",
   "execution_count": 234,
   "id": "74b6a2ca-3994-4469-bade-82b9dca2ab96",
   "metadata": {},
   "outputs": [],
   "source": [
    "import re"
   ]
  },
  {
   "cell_type": "code",
   "execution_count": null,
   "id": "c890ddd7-aa2d-407e-bbad-8c1ac873b1f5",
   "metadata": {},
   "outputs": [],
   "source": []
  }
 ],
 "metadata": {
  "kernelspec": {
   "display_name": "Python 3 (ipykernel)",
   "language": "python",
   "name": "python3"
  },
  "language_info": {
   "codemirror_mode": {
    "name": "ipython",
    "version": 3
   },
   "file_extension": ".py",
   "mimetype": "text/x-python",
   "name": "python",
   "nbconvert_exporter": "python",
   "pygments_lexer": "ipython3",
   "version": "3.12.4"
  }
 },
 "nbformat": 4,
 "nbformat_minor": 5
}
